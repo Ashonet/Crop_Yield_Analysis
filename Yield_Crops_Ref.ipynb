{
  "nbformat": 4,
  "nbformat_minor": 0,
  "metadata": {
    "colab": {
      "provenance": [],
      "authorship_tag": "ABX9TyNIxTD73bPw9KePm9ndrlaa"
    },
    "kernelspec": {
      "name": "python3",
      "display_name": "Python 3"
    },
    "language_info": {
      "name": "python"
    }
  },
  "cells": [
    {
      "cell_type": "code",
      "execution_count": null,
      "metadata": {
        "id": "HliI0MJsWb92"
      },
      "outputs": [],
      "source": [
        "import numpy as np\n",
        "import pandas as pd\n",
        "import sklearn\n",
        "import seaborn as sns\n",
        "import matplotlib.pyplot as plt\n",
        "from sklearn.preprocessing import OneHotEncoder\n",
        "from sklearn.preprocessing import MinMaxScaler\n",
        "from sklearn.metrics import r2_score\n",
        "from sklearn.model_selection import train_test_split\n",
        "from sklearn.ensemble import RandomForestRegressor\n",
        "from sklearn.ensemble import GradientBoostingRegressor\n",
        "from sklearn import svm\n",
        "from sklearn.tree import DecisionTreeRegressor\n",
        "\n",
        "# Gathering and cleaning data from yield.csv\n",
        "df_yield = pd.read_csv('/input_crops/yield.csv')  # Reading yield data\n",
        "df_yield.shape  # Checking shape of the dataframe\n",
        "\n",
        "# Renaming columns and dropping unnecessary columns\n",
        "df_yield = df_yield.rename(columns={\"Value\": \"Harvest Yield\"})\n",
        "df_yield = df_yield.drop(['Year Code', 'Element Code', 'Element', 'Year Code', 'Area Code', 'Domain Code', 'Domain', 'Unit', 'Item Code'], axis=1)\n",
        "\n",
        "# Gathering and cleaning data from rainfall.csv\n",
        "df_rain = pd.read_csv('/input_crops/rainfall.csv')  # Reading rainfall data\n",
        "df_rain = df_rain.rename(columns={\" Area\": 'Area'})  # Renaming a column\n",
        "df_rain['average_rain_fall_mm_per_year'] = pd.to_numeric(df_rain['average_rain_fall_mm_per_year'], errors='coerce')  # Converting column to numeric\n",
        "df_rain = df_rain.dropna()  # Dropping rows with missing values\n",
        "\n",
        "# Merging data from different sources (yield and rainfall)\n",
        "yield_df = pd.merge(df_yield, df_rain, on=['Year', 'Area'])\n",
        "\n",
        "# Gathering and cleaning data from pesticides.csv\n",
        "df_pes = pd.read_csv('/input_crops/pesticides.csv')  # Reading pesticides data\n",
        "df_pes = df_pes.rename(columns={\"Value\": \"pesticides_tonnes\"})  # Renaming a column\n",
        "df_pes = df_pes.drop(['Element', 'Domain', 'Unit', 'Item'], axis=1)  # Dropping unnecessary columns\n",
        "\n",
        "# Merging pesticides data with the existing yield and rainfall data\n",
        "yield_df = pd.merge(yield_df, df_pes, on=['Year', 'Area'])\n",
        "\n",
        "# Gathering and cleaning data from temp.csv\n",
        "avg_temp = pd.read_csv('/input_crops/temp.csv')  # Reading temperature data\n",
        "avg_temp = avg_temp.rename(columns={\"year\": \"Year\", \"country\": 'Area'})  # Renaming columns\n",
        "yield_df = pd.merge(yield_df, avg_temp, on=['Area', 'Year'])  # Merging temperature data with the existing dataframe\n",
        "yield_df.isnull().sum()  # Checking for missing values in the dataframe"
      ]
    },
    {
      "cell_type": "code",
      "source": [
        "# Data Exploration\n",
        "\n",
        "yield_df.groupby('Item').count()  # Grouping 'yield_df' DataFrame by 'Item' and counting occurrences\n",
        "yield_df['Area'].nunique()  # Finding the number of unique values in the 'Area' column of 'yield_df'\n",
        "yield_df.groupby(['Area'],sort=True)['Harvest Yield'].sum().nlargest(10)  # Grouping 'yield_df' by 'Area', calculating the sum of 'Harvest Yield', and getting the top 10 largest sums\n",
        "yield_df.groupby(['Item','Area'],sort=True)['Harvest Yield'].sum().nlargest(10) # Grouping 'yield_df' by both 'Item' and 'Area', calculating the sum of 'Harvest Yield', and getting the top 10 largest sums\n",
        "\n",
        "# Correlation heatmap between columns of the data frame\n",
        "correlation_data = yield_df.select_dtypes(include=[np.number]).corr()  # Calculating correlation matrix for numerical columns in 'yield_df'\n",
        "\n",
        "# Creating a mask for the upper triangle of the correlation matrix\n",
        "mask = np.zeros_like(correlation_data, dtype=np.bool)\n",
        "mask[np.triu_indices_from(mask)] = True\n",
        "\n",
        "# Creating a heatmap to visualize the correlation matrix\n",
        "plt.figure(figsize=(11, 9))  # Setting figure size\n",
        "cmap = sns.palette=\"RdBu\"  # Choosing color palette for the heatmap\n",
        "\n",
        "# Plotting the heatmap with specific parameters\n",
        "sns.heatmap(correlation_data, mask=mask, cmap=cmap, vmax=.3, center=0,\n",
        "            square=True, linewidths=.5, cbar_kws={\"shrink\": .5})"
      ],
      "metadata": {
        "id": "byCtYrIenazm"
      },
      "execution_count": null,
      "outputs": []
    },
    {
      "cell_type": "code",
      "source": [
        "# Creating one-hot encoded columns for 'Area' and 'Item' in yield_df\n",
        "yield_df_onehot = pd.get_dummies(yield_df, columns=['Area', 'Item'], prefix=['Country', 'Item'])\n",
        "\n",
        "# Separating features and label\n",
        "features = yield_df_onehot.drop(['Harvest Yield', 'Year'], axis=1)  # Extracting features\n",
        "label = yield_df['Harvest Yield']  # Extracting the target variable\n",
        "\n",
        "# Scaling the features using MinMaxScaler\n",
        "scaler = MinMaxScaler()\n",
        "features = scaler.fit_transform(features)  # Fit and transform the features\n",
        "\n",
        "# Outputting the scaled features\n",
        "features"
      ],
      "metadata": {
        "id": "rpmZ4I2EosTD"
      },
      "execution_count": null,
      "outputs": []
    },
    {
      "cell_type": "code",
      "source": [
        "# Data Preprocessing\n",
        "\n",
        "train_data, test_data, train_labels, test_labels = train_test_split(features, label, test_size=0.2, random_state=42)\n",
        "\n",
        "# Function to compare different models based on R-squared score\n",
        "def compare_models(model, train_data, train_labels, test_data, test_labels):\n",
        "    model_name = model.__class__.__name__  # Extracting the name of the model\n",
        "    fit = model.fit(train_data, train_labels)  # Fitting the model on the training data\n",
        "    y_pred = fit.predict(test_data)  # Predicting with the fitted model on test data\n",
        "    r2 = r2_score(test_labels, y_pred)# Calculating the R-squared score for the model\n",
        "    return [model_name, r2]  # Returning the model's name and its R-squared score\n",
        "\n",
        "\n",
        "# Defining different models to be compared\n",
        "models = [\n",
        "    GradientBoostingRegressor(n_estimators=500, max_depth=5, random_state=42),\n",
        "    RandomForestRegressor(n_estimators=500, max_depth=10, random_state=42),\n",
        "    svm.SVR(kernel='rbf', C=1.0, epsilon=0.1),  # Custom SVR paramters\n",
        "    DecisionTreeRegressor(max_depth=5, random_state=42)\n",
        "]"
      ],
      "metadata": {
        "id": "wi4aJjaJndv_"
      },
      "execution_count": null,
      "outputs": []
    },
    {
      "cell_type": "code",
      "source": [
        "# Creating test_df DataFrame based on selected columns from yield_df_onehot\n",
        "columns_to_select = yield_df_onehot.columns[yield_df_onehot.columns != 'Harvest Yield']\n",
        "test_df = pd.DataFrame(test_data, columns=columns_to_select)\n",
        "\n",
        "# Extracting Country Information\n",
        "country_columns = [col for col in test_df.columns if 'Country' in col]\n",
        "country_values = test_df[country_columns].stack()\n",
        "filtered_countries = country_values[country_values > 0]\n",
        "\n",
        "# Processing Country Information\n",
        "country_indices = pd.DataFrame(filtered_countries).index.get_level_values(1)\n",
        "countries = [i.split(\"_\")[1] for i in country_indices]\n",
        "\n",
        "# Extracting Item Information\n",
        "item_columns = [col for col in test_df.columns if 'Item' in col]\n",
        "item_values = test_df[item_columns].stack()\n",
        "filtered_items = item_values[item_values > 0]\n",
        "\n",
        "# Processing Item Information\n",
        "item_indices = pd.DataFrame(filtered_items).index.get_level_values(1)\n",
        "items = [i.split(\"_\")[1] for i in item_indices]\n",
        "\n",
        "clf = DecisionTreeRegressor()# Training a model (DecisionTreeRegressor) and making predictions\n",
        "model = clf.fit(train_data, train_labels)# Training the DecisionTreeRegressor model using training data\n",
        "\n",
        "# Adding 'Country' and 'Item' columns to the 'test_df' DataFrame\n",
        "test_df['Country'] = countries\n",
        "test_df['Item'] = items\n",
        "\n",
        "test_df[\"yield_predicted\"] = model.predict(test_data)# Predicting 'Harvest Yield' values using the trained model on test data\n",
        "test_df[\"yield_actual\"] = pd.DataFrame(test_labels)[\"Harvest Yield\"].tolist()# Creating a column 'yield_actual' in 'test_df' containing actual 'Harvest Yield' values from test labels\n",
        "test_group = test_df.groupby(\"Item\")# Grouping 'test_df' by 'Item'"
      ],
      "metadata": {
        "id": "owTDk5Hfnh4_"
      },
      "execution_count": null,
      "outputs": []
    },
    {
      "cell_type": "code",
      "source": [
        "# Scatter plot of True vs Predicted Yield\n",
        "fig, ax = plt.subplots(figsize=(8, 6))  # Adjust figure size\n",
        "\n",
        "# Scatter plot with improved aesthetics\n",
        "scatter = ax.scatter(test_df[\"yield_actual\"], test_df[\"yield_predicted\"],\n",
        "                     edgecolors='black', linewidths=1, alpha=0.9, label='Data Points',\n",
        "                     cmap='viridis', s=70)  # Adjust marker size and transparency\n",
        "\n",
        "# Adding a line of best fit (regression line) with improved style\n",
        "m, b = np.polyfit(test_df[\"yield_actual\"], test_df[\"yield_predicted\"], 1)\n",
        "regression_line, = ax.plot(test_df[\"yield_actual\"], m * test_df[\"yield_actual\"] + b,\n",
        "                           color='red', linestyle='--', linewidth=2, label='Regression Line')\n",
        "\n",
        "# Setting labels and title with improved font properties\n",
        "ax.set_xlabel('True Yield', fontsize=12, fontweight='bold')\n",
        "ax.set_ylabel('Predicted Yield', fontsize=12, fontweight='bold')\n",
        "ax.set_title(\"True vs Predicted (Yield)\", fontsize=14, fontweight='bold')\n",
        "\n",
        "# Displaying legend with improved style\n",
        "ax.legend(handles=[scatter, regression_line], loc='upper left', fontsize=10)\n",
        "\n",
        "# Customize gridlines\n",
        "ax.grid(True, linestyle='--', alpha=0.5)\n",
        "\n",
        "plt.tight_layout()  # Adjust layout to prevent clipping of labels\n",
        "plt.show()"
      ],
      "metadata": {
        "id": "QNiX07L6nofu"
      },
      "execution_count": null,
      "outputs": []
    },
    {
      "cell_type": "code",
      "source": [
        "# Set custom figure size\n",
        "a4_dims = (20, 9)\n",
        "fig, ax = plt.subplots(figsize=a4_dims)\n",
        "\n",
        "# Adjust style and appearance of the boxplot\n",
        "sns.boxplot(x=\"Item\", y=\"Harvest Yield\", palette=\"RdBu\", data=yield_df, ax=ax, width=0.6)  # Adjust width for boxes\n",
        "ax.set_title('Harvest Yield Distribution by Item', fontsize=20)  # Set title and adjust font size\n",
        "ax.set_xlabel('Item', fontsize=15)  # Set x-axis label and adjust font size\n",
        "ax.set_ylabel('Harvest Yield', fontsize=15)  # Set y-axis label and adjust font size\n",
        "ax.tick_params(axis='both', which='major', labelsize=12)  # Adjust tick label font size for both axes\n",
        "plt.xticks(rotation=45)  # Rotate x-axis labels for better readability\n",
        "\n",
        "# Adjusting borders and spines\n",
        "sns.despine()  # Remove the top and right spines\n",
        "ax.grid(True, axis='y', linestyle='--', alpha=0.7)  # Add horizontal grid lines with transparency\n",
        "\n",
        "plt.show()"
      ],
      "metadata": {
        "id": "9b11hgIgnrcr"
      },
      "execution_count": null,
      "outputs": []
    }
  ]
}